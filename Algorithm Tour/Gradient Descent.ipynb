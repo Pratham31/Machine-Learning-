{
 "cells": [
  {
   "cell_type": "markdown",
   "metadata": {},
   "source": [
    "<h1><center>Gradient Descent</center></h1>\n",
    "<h3><center>Gradient Decsent is an algorithm that finds best fit line for given training data set.</center></h3>\n",
    "<h4>- We use Mean square error method in gradient descent to find the best fit line.</h4>\n",
    "<h4>- Formula: average of diffrence of square of (y(predicted)-y(calculated))</h4>\n",
    "<h4>Where:</h4>\n",
    "    <h4> y(calculated) = mx+b (of each point)</h4>"
   ]
  },
  {
   "cell_type": "markdown",
   "metadata": {},
   "source": [
    "<h4>- In Mean Square Error we get curvature where slopes are changing at every point so here we consider very small amount of change in every point in x and y. </h4>\n",
    "<h4>- We calculate dm and dc<br>\n",
    "    where:<br><br> m = slope <br> \n",
    "    c = intercept </h4>"
   ]
  },
  {
   "cell_type": "markdown",
   "metadata": {},
   "source": [
    "<h4>m= m - learning rate*(d/dm)</h4>\n",
    "<h4>c= c - learning rate*(d/dc)</h4>"
   ]
  }
 ],
 "metadata": {
  "kernelspec": {
   "display_name": "Python 3",
   "language": "python",
   "name": "python3"
  },
  "language_info": {
   "codemirror_mode": {
    "name": "ipython",
    "version": 3
   },
   "file_extension": ".py",
   "mimetype": "text/x-python",
   "name": "python",
   "nbconvert_exporter": "python",
   "pygments_lexer": "ipython3",
   "version": "3.7.6"
  }
 },
 "nbformat": 4,
 "nbformat_minor": 4
}
